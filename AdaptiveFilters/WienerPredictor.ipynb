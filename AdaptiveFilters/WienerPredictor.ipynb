{
 "cells": [
  {
   "cell_type": "code",
   "execution_count": 1,
   "id": "a5ef7090",
   "metadata": {},
   "outputs": [],
   "source": [
    "import pandas as pd\n",
    "import numpy as np"
   ]
  },
  {
   "cell_type": "code",
   "execution_count": 2,
   "id": "ead49a58",
   "metadata": {},
   "outputs": [],
   "source": [
    "def WienerPredictor(corr,n=4):\n",
    "    row = np.concatenate((corr[0:n], np.flip(corr[1:n-1])))\n",
    "    Rx = np.zeros((n,n))\n",
    "    for i in range(0,n):\n",
    "        Rx[i] = row[0:n]\n",
    "        row = np.roll(row,1)\n",
    "    r = corr[1:n+1]\n",
    "    return np.linalg.inv(Rx).dot(r)\n",
    "\n",
    "def splits(signal, width, pad):\n",
    "    start = 0\n",
    "    end = width\n",
    "    w_len = (len(signal) - width)//pad + 1\n",
    "    windows = np.zeros((w_len, width))\n",
    "    for i in range(w_len):\n",
    "        windows[i] = signal[start:end]\n",
    "        start, end = start+pad, end+pad\n",
    "    return windows"
   ]
  }
 ],
 "metadata": {
  "kernelspec": {
   "display_name": "Python 3 (ipykernel)",
   "language": "python",
   "name": "python3"
  },
  "language_info": {
   "codemirror_mode": {
    "name": "ipython",
    "version": 3
   },
   "file_extension": ".py",
   "mimetype": "text/x-python",
   "name": "python",
   "nbconvert_exporter": "python",
   "pygments_lexer": "ipython3",
   "version": "3.9.6"
  }
 },
 "nbformat": 4,
 "nbformat_minor": 5
}
