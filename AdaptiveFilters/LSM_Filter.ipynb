{
 "cells": [
  {
   "cell_type": "code",
   "execution_count": null,
   "metadata": {},
   "outputs": [],
   "source": [
    "import tensorflow as tf\n",
    "from tensorflow import keras \n",
    "\n",
    "import pandas as pd\n",
    "import numpy as np\n",
    "import matplotlib.pyplot as plt"
   ]
  },
  {
   "cell_type": "code",
   "execution_count": null,
   "metadata": {},
   "outputs": [],
   "source": [
    "t = np.arange (-25,25,0.01)\n",
    "xa = 3 * np.cos (4* np.pi * t) \n",
    "plt.plot (t[:80], xa[:80]) "
   ]
  },
  {
   "cell_type": "code",
   "execution_count": null,
   "metadata": {},
   "outputs": [],
   "source": [
    "class filtroLMS():\n",
    "    \n",
    "    def __init__(self, n, mu=0.2):\n",
    "        self.n = n\n",
    "        self.w = np.random.rand(n)\n",
    "        self.mu = mu\n",
    "    \n",
    "    def train(self, signal):\n",
    "        for i in range(len(signal)-self.n):\n",
    "            sample = signal[i:i+self.n]\n",
    "            error = signal[i+self.n] - np.dot(self.w, sample);\n",
    "            print('Error:', error, 'i',i)\n",
    "            self.w = self.w + self.mu * sample * error;"
   ]
  },
  {
   "cell_type": "code",
   "execution_count": null,
   "metadata": {},
   "outputs": [],
   "source": [
    "fi_LMS = filtroLMS(35,0.005)\n",
    "fi_LMS.train(signal)\n",
    "print(xa.size)\n",
    "fi_LMS.w"
   ]
  }
 ],
 "metadata": {
  "kernelspec": {
   "display_name": "Python 3 (ipykernel)",
   "language": "python",
   "name": "python3"
  },
  "language_info": {
   "codemirror_mode": {
    "name": "ipython",
    "version": 3
   },
   "file_extension": ".py",
   "mimetype": "text/x-python",
   "name": "python",
   "nbconvert_exporter": "python",
   "pygments_lexer": "ipython3",
   "version": "3.9.6"
  }
 },
 "nbformat": 4,
 "nbformat_minor": 4
}
